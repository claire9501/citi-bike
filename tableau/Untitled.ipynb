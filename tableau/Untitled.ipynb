{
 "cells": [
  {
   "cell_type": "code",
   "execution_count": 1,
   "metadata": {},
   "outputs": [],
   "source": [
    "from bs4 import BeautifulSoup\n",
    "import pandas as pd\n",
    "from selenium import webdriver\n",
    "from io import BytesIO\n",
    "from zipfile import ZipFile\n",
    "import urllib.request\n",
    "import os"
   ]
  },
  {
   "cell_type": "code",
   "execution_count": 2,
   "metadata": {},
   "outputs": [],
   "source": [
    "browser = webdriver.Chrome('/usr/local/bin/chromedriver') "
   ]
  },
  {
   "cell_type": "code",
   "execution_count": 3,
   "metadata": {},
   "outputs": [],
   "source": [
    "browser.get('https://s3.amazonaws.com/tripdata/index.html')"
   ]
  },
  {
   "cell_type": "code",
   "execution_count": 4,
   "metadata": {},
   "outputs": [],
   "source": [
    "all_links = [link.get_attribute('href') for link in browser.find_elements_by_tag_name('a')]"
   ]
  },
  {
   "cell_type": "code",
   "execution_count": 5,
   "metadata": {},
   "outputs": [],
   "source": [
    "linksJC_18 = [link for link in all_links if 'JC' in link if '2018' in link]\n",
    "linksJC_17 = [link for link in all_links if 'JC' in link if '2017' in link]\n",
    "links_18 = [link for link in all_links if 'JC' not in link if '2018' in link]\n",
    "links_17 = [link for link in all_links if 'JC' not in link if '2017' in link]"
   ]
  },
  {
   "cell_type": "code",
   "execution_count": 6,
   "metadata": {},
   "outputs": [],
   "source": [
    "def create_df(link):\n",
    "    \n",
    "    url = urllib.request.urlopen(link)\n",
    "    output = open('temporary.zip', 'wb')    \n",
    "    output.write(url.read())\n",
    "    output.close()\n",
    "    dataframe = pd.read_csv('temporary.zip')\n",
    "    \n",
    "    if (len(dataframe.columns) == 15):\n",
    "        dataframe.columns = ['Trip Duration (sec)', 'Start Time', 'Stop Time', 'Start Station ID',\n",
    "       'Start Station Name', 'Start Station Latitude',\n",
    "       'Start Station Longitude', 'End Station ID', 'End Station Name',\n",
    "       'End Station Latitude', 'End Station Longitude', 'Bike ID', 'User Type',\n",
    "       'Birth_Year', 'Gender']\n",
    "    else:\n",
    "        dataframe.columns = ['Trip Duration (sec)', 'Start Time', 'Stop Time', 'Start Station ID',\n",
    "       'Start Station Name', 'Start Station Latitude',\n",
    "       'Start Station Longitude', 'End Station ID', 'End Station Name',\n",
    "       'End Station Latitude', 'End Station Longitude', 'Bike ID',\n",
    "       'Localized Value', 'User Type', 'Birth_Year', 'Gender']\n",
    "        dataframe = dataframe.drop('Localized Value',1)\n",
    "        \n",
    "    print(link)\n",
    "    os.remove('temporary.zip')\n",
    "    \n",
    "    return dataframe"
   ]
  },
  {
   "cell_type": "code",
   "execution_count": 7,
   "metadata": {},
   "outputs": [],
   "source": [
    "def prepare_df(df):\n",
    "    \n",
    "#     drop n/a\n",
    "    df = df.dropna(how='any').reset_index(drop=True)\n",
    "    \n",
    "#     change data types\n",
    "    df['Birth_Year'] = df.Birth_Year.astype(int)\n",
    "    df['Start Time'] = pd.to_datetime(df['Start Time'])\n",
    "    df['Stop Time'] = pd.to_datetime(df['Stop Time'])\n",
    "    \n",
    "#     add Dge column\n",
    "    df['Age'] = 2020 - df['Birth_Year']\n",
    "    \n",
    "#     exclude ages > 90 years\n",
    "    df = df[df['Age'] < 90]\n",
    "    \n",
    "    return df"
   ]
  },
  {
   "cell_type": "code",
   "execution_count": 8,
   "metadata": {},
   "outputs": [],
   "source": [
    "ny18 = pd.DataFrame()\n",
    "ny17 = pd.DataFrame()"
   ]
  },
  {
   "cell_type": "code",
   "execution_count": 9,
   "metadata": {},
   "outputs": [
    {
     "name": "stdout",
     "output_type": "stream",
     "text": [
      "https://s3.amazonaws.com/tripdata/201801-citibike-tripdata.csv.zip\n",
      "https://s3.amazonaws.com/tripdata/201802-citibike-tripdata.csv.zip\n",
      "https://s3.amazonaws.com/tripdata/201803-citibike-tripdata.csv.zip\n",
      "https://s3.amazonaws.com/tripdata/201804-citibike-tripdata.csv.zip\n",
      "https://s3.amazonaws.com/tripdata/201805-citibike-tripdata.csv.zip\n",
      "https://s3.amazonaws.com/tripdata/201806-citibike-tripdata.csv.zip\n",
      "https://s3.amazonaws.com/tripdata/201807-citibike-tripdata.csv.zip\n",
      "https://s3.amazonaws.com/tripdata/201808-citibike-tripdata.csv.zip\n",
      "https://s3.amazonaws.com/tripdata/201809-citibike-tripdata.csv.zip\n",
      "https://s3.amazonaws.com/tripdata/201810-citibike-tripdata.csv.zip\n",
      "https://s3.amazonaws.com/tripdata/201811-citibike-tripdata.csv.zip\n",
      "https://s3.amazonaws.com/tripdata/201812-citibike-tripdata.csv.zip\n"
     ]
    }
   ],
   "source": [
    "for link in links_18:\n",
    "    temporary_df = create_df(link)\n",
    "    ny18 = ny18.append(temporary_df, ignore_index=True, sort=False)"
   ]
  },
  {
   "cell_type": "code",
   "execution_count": 10,
   "metadata": {},
   "outputs": [
    {
     "name": "stdout",
     "output_type": "stream",
     "text": [
      "https://s3.amazonaws.com/tripdata/201701-citibike-tripdata.csv.zip\n",
      "https://s3.amazonaws.com/tripdata/201702-citibike-tripdata.csv.zip\n",
      "https://s3.amazonaws.com/tripdata/201703-citibike-tripdata.csv.zip\n",
      "https://s3.amazonaws.com/tripdata/201704-citibike-tripdata.csv.zip\n",
      "https://s3.amazonaws.com/tripdata/201705-citibike-tripdata.csv.zip\n",
      "https://s3.amazonaws.com/tripdata/201706-citibike-tripdata.csv.zip\n",
      "https://s3.amazonaws.com/tripdata/201707-citibike-tripdata.csv.zip\n",
      "https://s3.amazonaws.com/tripdata/201708-citibike-tripdata.csv.zip\n",
      "https://s3.amazonaws.com/tripdata/201709-citibike-tripdata.csv.zip\n",
      "https://s3.amazonaws.com/tripdata/201710-citibike-tripdata.csv.zip\n",
      "https://s3.amazonaws.com/tripdata/201711-citibike-tripdata.csv.zip\n",
      "https://s3.amazonaws.com/tripdata/201712-citibike-tripdata.csv.zip\n"
     ]
    }
   ],
   "source": [
    "for link in links_17:\n",
    "    temporary_df = create_df(link)\n",
    "    ny17 = ny17.append(temporary_df, ignore_index=True, sort=False)"
   ]
  },
  {
   "cell_type": "code",
   "execution_count": 11,
   "metadata": {},
   "outputs": [],
   "source": [
    "ny17 = prepare_df(ny17)\n",
    "ny18 = prepare_df(ny18)"
   ]
  },
  {
   "cell_type": "code",
   "execution_count": 12,
   "metadata": {},
   "outputs": [],
   "source": [
    "nydf = ny17.append(ny18, ignore_index=True, sort=False)"
   ]
  },
  {
   "cell_type": "code",
   "execution_count": 15,
   "metadata": {},
   "outputs": [],
   "source": [
    "nydf.to_csv('../tableau.csv', encoding='utf-8', index=False)"
   ]
  },
  {
   "cell_type": "code",
   "execution_count": null,
   "metadata": {},
   "outputs": [],
   "source": []
  }
 ],
 "metadata": {
  "kernelspec": {
   "display_name": "Python 3",
   "language": "python",
   "name": "python3"
  },
  "language_info": {
   "codemirror_mode": {
    "name": "ipython",
    "version": 3
   },
   "file_extension": ".py",
   "mimetype": "text/x-python",
   "name": "python",
   "nbconvert_exporter": "python",
   "pygments_lexer": "ipython3",
   "version": "3.7.6"
  }
 },
 "nbformat": 4,
 "nbformat_minor": 4
}
